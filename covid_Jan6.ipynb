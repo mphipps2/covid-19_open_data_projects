{
  "nbformat": 4,
  "nbformat_minor": 0,
  "metadata": {
    "colab": {
      "name": "covid_Jan6.ipynb",
      "provenance": [],
      "collapsed_sections": [],
      "authorship_tag": "ABX9TyOgy3xkOOPeLqWFb8xewwYM",
      "include_colab_link": true
    },
    "kernelspec": {
      "name": "python3",
      "display_name": "Python 3"
    },
    "language_info": {
      "name": "python"
    }
  },
  "cells": [
    {
      "cell_type": "markdown",
      "metadata": {
        "id": "view-in-github",
        "colab_type": "text"
      },
      "source": [
        "<a href=\"https://colab.research.google.com/github/mphipps2/covid-19_open_data_projects/blob/main/covid_Jan6.ipynb\" target=\"_parent\"><img src=\"https://colab.research.google.com/assets/colab-badge.svg\" alt=\"Open In Colab\"/></a>"
      ]
    },
    {
      "cell_type": "code",
      "execution_count": null,
      "metadata": {
        "colab": {
          "base_uri": "https://localhost:8080/"
        },
        "id": "0ne48ysfCWiD",
        "outputId": "4172bb03-b105-4062-fbf2-6e155a88543b"
      },
      "outputs": [
        {
          "output_type": "stream",
          "name": "stdout",
          "text": [
            "Authenticated\n"
          ]
        }
      ],
      "source": [
        "project_id = \"covid\"\n",
        "\n",
        "from google.colab import auth\n",
        "\n",
        "import humanize\n",
        "auth.authenticate_user()\n",
        "print('Authenticated')\n",
        "\n",
        "from google.cloud import bigquery\n",
        "import pandas as pd\n",
        "\n",
        "my_project = \"bigquery-public-data\"\n",
        "my_dataset = \"covid19_jhu_csse\"\n",
        "#my_table = \"confirmed_cases\"\n",
        "my_table = \"summary\"\n",
        "client = bigquery.Client(project=project_id)\n",
        "\n"
      ]
    },
    {
      "cell_type": "code",
      "source": [
        "\n",
        "dataset_ref = client.dataset(my_dataset,project=my_project)\n",
        "\n",
        "dataset = client.get_dataset(dataset_ref)\n",
        "tables = list(client.list_tables(dataset))\n",
        "for table in tables:\n",
        "        print(table.table_id)\n",
        "\n",
        "table_ref = dataset_ref.table(my_table)\n",
        "table = client.get_table(table_ref)\n",
        "print(table.schema)\n",
        "\n",
        "df = client.list_rows(table, max_results=5).to_dataframe()\n",
        "df.head()"
      ],
      "metadata": {
        "colab": {
          "base_uri": "https://localhost:8080/",
          "height": 461
        },
        "id": "o3VE7KkbGlUK",
        "outputId": "82ebce82-0012-48b5-bbfd-e3ce448420b1"
      },
      "execution_count": null,
      "outputs": [
        {
          "output_type": "stream",
          "name": "stdout",
          "text": [
            "confirmed_cases\n",
            "deaths\n",
            "recovered_cases\n",
            "summary\n",
            "[SchemaField('province_state', 'STRING', 'NULLABLE', None, ()), SchemaField('country_region', 'STRING', 'NULLABLE', None, ()), SchemaField('date', 'DATE', 'NULLABLE', None, ()), SchemaField('latitude', 'FLOAT', 'NULLABLE', None, ()), SchemaField('longitude', 'FLOAT', 'NULLABLE', None, ()), SchemaField('location_geom', 'GEOGRAPHY', 'NULLABLE', None, ()), SchemaField('confirmed', 'INTEGER', 'NULLABLE', None, ()), SchemaField('deaths', 'INTEGER', 'NULLABLE', None, ()), SchemaField('recovered', 'INTEGER', 'NULLABLE', None, ()), SchemaField('active', 'INTEGER', 'NULLABLE', None, ()), SchemaField('fips', 'STRING', 'NULLABLE', None, ()), SchemaField('admin2', 'STRING', 'NULLABLE', None, ()), SchemaField('combined_key', 'STRING', 'NULLABLE', None, ())]\n"
          ]
        },
        {
          "output_type": "execute_result",
          "data": {
            "text/html": [
              "\n",
              "  <div id=\"df-8028510a-2d5f-42b9-ba32-30c67934607c\">\n",
              "    <div class=\"colab-df-container\">\n",
              "      <div>\n",
              "<style scoped>\n",
              "    .dataframe tbody tr th:only-of-type {\n",
              "        vertical-align: middle;\n",
              "    }\n",
              "\n",
              "    .dataframe tbody tr th {\n",
              "        vertical-align: top;\n",
              "    }\n",
              "\n",
              "    .dataframe thead th {\n",
              "        text-align: right;\n",
              "    }\n",
              "</style>\n",
              "<table border=\"1\" class=\"dataframe\">\n",
              "  <thead>\n",
              "    <tr style=\"text-align: right;\">\n",
              "      <th></th>\n",
              "      <th>province_state</th>\n",
              "      <th>country_region</th>\n",
              "      <th>date</th>\n",
              "      <th>latitude</th>\n",
              "      <th>longitude</th>\n",
              "      <th>location_geom</th>\n",
              "      <th>confirmed</th>\n",
              "      <th>deaths</th>\n",
              "      <th>recovered</th>\n",
              "      <th>active</th>\n",
              "      <th>fips</th>\n",
              "      <th>admin2</th>\n",
              "      <th>combined_key</th>\n",
              "    </tr>\n",
              "  </thead>\n",
              "  <tbody>\n",
              "    <tr>\n",
              "      <th>0</th>\n",
              "      <td>Castilla y Leon</td>\n",
              "      <td>Spain</td>\n",
              "      <td>2020-08-05</td>\n",
              "      <td>41.835700</td>\n",
              "      <td>-4.397600</td>\n",
              "      <td>POINT(-4.3976 41.8357)</td>\n",
              "      <td>20739</td>\n",
              "      <td>2800</td>\n",
              "      <td>8716</td>\n",
              "      <td>9223</td>\n",
              "      <td>None</td>\n",
              "      <td>None</td>\n",
              "      <td>Castilla y Leon, Spain</td>\n",
              "    </tr>\n",
              "    <tr>\n",
              "      <th>1</th>\n",
              "      <td>Gilgit-Baltistan</td>\n",
              "      <td>Pakistan</td>\n",
              "      <td>2020-08-05</td>\n",
              "      <td>35.792146</td>\n",
              "      <td>74.982138</td>\n",
              "      <td>POINT(74.982138 35.792146)</td>\n",
              "      <td>2218</td>\n",
              "      <td>55</td>\n",
              "      <td>1820</td>\n",
              "      <td>343</td>\n",
              "      <td>None</td>\n",
              "      <td>None</td>\n",
              "      <td>Gilgit-Baltistan, Pakistan</td>\n",
              "    </tr>\n",
              "    <tr>\n",
              "      <th>2</th>\n",
              "      <td>Nordrhein-Westfalen</td>\n",
              "      <td>Germany</td>\n",
              "      <td>2020-08-05</td>\n",
              "      <td>51.433200</td>\n",
              "      <td>7.661600</td>\n",
              "      <td>POINT(7.6616 51.4332)</td>\n",
              "      <td>50068</td>\n",
              "      <td>1751</td>\n",
              "      <td>45000</td>\n",
              "      <td>3317</td>\n",
              "      <td>None</td>\n",
              "      <td>None</td>\n",
              "      <td>Nordrhein-Westfalen, Germany</td>\n",
              "    </tr>\n",
              "    <tr>\n",
              "      <th>3</th>\n",
              "      <td>Biobio</td>\n",
              "      <td>Chile</td>\n",
              "      <td>2020-11-13</td>\n",
              "      <td>-37.446400</td>\n",
              "      <td>-72.141600</td>\n",
              "      <td>POINT(-72.1416 -37.4464)</td>\n",
              "      <td>32338</td>\n",
              "      <td>540</td>\n",
              "      <td>30192</td>\n",
              "      <td>1606</td>\n",
              "      <td>None</td>\n",
              "      <td>None</td>\n",
              "      <td>Biobio, Chile</td>\n",
              "    </tr>\n",
              "    <tr>\n",
              "      <th>4</th>\n",
              "      <td>Bayern</td>\n",
              "      <td>Germany</td>\n",
              "      <td>2020-11-13</td>\n",
              "      <td>48.790400</td>\n",
              "      <td>11.497900</td>\n",
              "      <td>POINT(11.4979 48.7904)</td>\n",
              "      <td>153156</td>\n",
              "      <td>3108</td>\n",
              "      <td>100219</td>\n",
              "      <td>49829</td>\n",
              "      <td>None</td>\n",
              "      <td>None</td>\n",
              "      <td>Bayern, Germany</td>\n",
              "    </tr>\n",
              "  </tbody>\n",
              "</table>\n",
              "</div>\n",
              "      <button class=\"colab-df-convert\" onclick=\"convertToInteractive('df-8028510a-2d5f-42b9-ba32-30c67934607c')\"\n",
              "              title=\"Convert this dataframe to an interactive table.\"\n",
              "              style=\"display:none;\">\n",
              "        \n",
              "  <svg xmlns=\"http://www.w3.org/2000/svg\" height=\"24px\"viewBox=\"0 0 24 24\"\n",
              "       width=\"24px\">\n",
              "    <path d=\"M0 0h24v24H0V0z\" fill=\"none\"/>\n",
              "    <path d=\"M18.56 5.44l.94 2.06.94-2.06 2.06-.94-2.06-.94-.94-2.06-.94 2.06-2.06.94zm-11 1L8.5 8.5l.94-2.06 2.06-.94-2.06-.94L8.5 2.5l-.94 2.06-2.06.94zm10 10l.94 2.06.94-2.06 2.06-.94-2.06-.94-.94-2.06-.94 2.06-2.06.94z\"/><path d=\"M17.41 7.96l-1.37-1.37c-.4-.4-.92-.59-1.43-.59-.52 0-1.04.2-1.43.59L10.3 9.45l-7.72 7.72c-.78.78-.78 2.05 0 2.83L4 21.41c.39.39.9.59 1.41.59.51 0 1.02-.2 1.41-.59l7.78-7.78 2.81-2.81c.8-.78.8-2.07 0-2.86zM5.41 20L4 18.59l7.72-7.72 1.47 1.35L5.41 20z\"/>\n",
              "  </svg>\n",
              "      </button>\n",
              "      \n",
              "  <style>\n",
              "    .colab-df-container {\n",
              "      display:flex;\n",
              "      flex-wrap:wrap;\n",
              "      gap: 12px;\n",
              "    }\n",
              "\n",
              "    .colab-df-convert {\n",
              "      background-color: #E8F0FE;\n",
              "      border: none;\n",
              "      border-radius: 50%;\n",
              "      cursor: pointer;\n",
              "      display: none;\n",
              "      fill: #1967D2;\n",
              "      height: 32px;\n",
              "      padding: 0 0 0 0;\n",
              "      width: 32px;\n",
              "    }\n",
              "\n",
              "    .colab-df-convert:hover {\n",
              "      background-color: #E2EBFA;\n",
              "      box-shadow: 0px 1px 2px rgba(60, 64, 67, 0.3), 0px 1px 3px 1px rgba(60, 64, 67, 0.15);\n",
              "      fill: #174EA6;\n",
              "    }\n",
              "\n",
              "    [theme=dark] .colab-df-convert {\n",
              "      background-color: #3B4455;\n",
              "      fill: #D2E3FC;\n",
              "    }\n",
              "\n",
              "    [theme=dark] .colab-df-convert:hover {\n",
              "      background-color: #434B5C;\n",
              "      box-shadow: 0px 1px 3px 1px rgba(0, 0, 0, 0.15);\n",
              "      filter: drop-shadow(0px 1px 2px rgba(0, 0, 0, 0.3));\n",
              "      fill: #FFFFFF;\n",
              "    }\n",
              "  </style>\n",
              "\n",
              "      <script>\n",
              "        const buttonEl =\n",
              "          document.querySelector('#df-8028510a-2d5f-42b9-ba32-30c67934607c button.colab-df-convert');\n",
              "        buttonEl.style.display =\n",
              "          google.colab.kernel.accessAllowed ? 'block' : 'none';\n",
              "\n",
              "        async function convertToInteractive(key) {\n",
              "          const element = document.querySelector('#df-8028510a-2d5f-42b9-ba32-30c67934607c');\n",
              "          const dataTable =\n",
              "            await google.colab.kernel.invokeFunction('convertToInteractive',\n",
              "                                                     [key], {});\n",
              "          if (!dataTable) return;\n",
              "\n",
              "          const docLinkHtml = 'Like what you see? Visit the ' +\n",
              "            '<a target=\"_blank\" href=https://colab.research.google.com/notebooks/data_table.ipynb>data table notebook</a>'\n",
              "            + ' to learn more about interactive tables.';\n",
              "          element.innerHTML = '';\n",
              "          dataTable['output_type'] = 'display_data';\n",
              "          await google.colab.output.renderOutput(dataTable, element);\n",
              "          const docLink = document.createElement('div');\n",
              "          docLink.innerHTML = docLinkHtml;\n",
              "          element.appendChild(docLink);\n",
              "        }\n",
              "      </script>\n",
              "    </div>\n",
              "  </div>\n",
              "  "
            ],
            "text/plain": [
              "        province_state country_region  ... admin2                  combined_key\n",
              "0      Castilla y Leon          Spain  ...   None        Castilla y Leon, Spain\n",
              "1     Gilgit-Baltistan       Pakistan  ...   None    Gilgit-Baltistan, Pakistan\n",
              "2  Nordrhein-Westfalen        Germany  ...   None  Nordrhein-Westfalen, Germany\n",
              "3               Biobio          Chile  ...   None                 Biobio, Chile\n",
              "4               Bayern        Germany  ...   None               Bayern, Germany\n",
              "\n",
              "[5 rows x 13 columns]"
            ]
          },
          "metadata": {},
          "execution_count": 13
        }
      ]
    },
    {
      "cell_type": "markdown",
      "source": [
        ""
      ],
      "metadata": {
        "id": "2iYqZFdjKCgq"
      }
    },
    {
      "cell_type": "markdown",
      "source": [
        ""
      ],
      "metadata": {
        "id": "dLOB186nKC_Z"
      }
    },
    {
      "cell_type": "code",
      "source": [
        ""
      ],
      "metadata": {
        "id": "HTt3pth0KDf5"
      },
      "execution_count": null,
      "outputs": []
    },
    {
      "cell_type": "code",
      "source": [
        "query = \"\"\"\n",
        "SELECT\n",
        "  country_region, SUM(confirmed) as confirmed_sum, SUM(deaths) as deaths_sum, SUM(recovered) as recovered_sum\n",
        "FROM\n",
        "  `bigquery-public-data.covid19_jhu_csse.summary`\n",
        "WHERE\n",
        "  date = '2020-10-12'\n",
        "GROUP BY country_region\n",
        "ORDER BY confirmed_sum desc;\n",
        "\"\"\"\n",
        "ONE_GB = 1000*1000*1000\n",
        "safe_config = bigquery.QueryJobConfig(maximum_bytes_billed=ONE_GB)\n",
        "query_results = client.query(query, job_config=safe_config)\n",
        "print(\"query results type: \", type(query_results))\n",
        "#results = query_results.to_dataframe()\n",
        "df = pd.DataFrame(query_results)\n",
        "for col in df.columns:\n",
        "        print(col)\n",
        "\n",
        "print(\"number of results: \" , len(df))"
      ],
      "metadata": {
        "id": "r6YtGiYYH9zF"
      },
      "execution_count": null,
      "outputs": []
    }
  ]
}